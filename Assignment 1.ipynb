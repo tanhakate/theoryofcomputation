{
  "nbformat": 4,
  "nbformat_minor": 0,
  "metadata": {
    "colab": {
      "name": "CS142 Assignment 1.ipynb",
      "version": "0.3.2",
      "provenance": []
    },
    "kernelspec": {
      "name": "python3",
      "display_name": "Python 3"
    }
  },
  "cells": [
    {
      "metadata": {
        "id": "VMIS-3MDeutH",
        "colab_type": "code",
        "colab": {}
      },
      "cell_type": "code",
      "source": [
        "#This is a simple Python simulator for the DFA in question 2C. \n",
        "#q0 is the start state and the accept state. \n",
        "#Matrices are passed to the DFA as a list, where each element of the list\n",
        "#is an element of the matrix from top row to bottom\n",
        "\n",
        "\n",
        "def q1(s):\n",
        "    n = len(s)\n",
        "    if n == 0: #If the list is empty, we automatically accept.\n",
        "      print(\"The string is not recognized\")\n",
        "      return\n",
        "    if s[0] == '110':\n",
        "      q0(s[1:]) #self-loops are represented as recursive calls\n",
        "    elif s[0] in ['100','010','111']:\n",
        "      q1(s[1:])\n",
        "    elif s[0] in ['000','001','011','101']:\n",
        "      q2(s[1:])\n",
        "        \n",
        "        \n",
        "def q2(s):\n",
        "    if len(s) == 0: #If the string is empty when it reaches q2, we terminate. \n",
        "      print('The string is not recognized')\n",
        "    else:\n",
        "      #else, we make a recursive call until we reach the base case which is \n",
        "      #not recognized because q2 is essentially a death state\n",
        "      q2(s[1:])\n",
        "    \n",
        "def q0(s):\n",
        "    n = len(s) #Once again, n is the number of column matrices in input string\n",
        "    if n == 0:\n",
        "      #If the list is empty, the language is recognized\n",
        "      print('The string is recognized')\n",
        "    else:\n",
        "      if s[0] in ['000','011','101']:\n",
        "        q0(s[1:])\n",
        "      elif s[0] == '001':\n",
        "        q1(s[1:])\n",
        "      elif s[0] in ['100','010','110','111']:\n",
        "        q2(s[1:])"
      ],
      "execution_count": 0,
      "outputs": []
    },
    {
      "metadata": {
        "id": "cbf0AV42e6r6",
        "colab_type": "text"
      },
      "cell_type": "markdown",
      "source": [
        "## Examples in Language B"
      ]
    },
    {
      "metadata": {
        "id": "nFJvMX_re0vi",
        "colab_type": "code",
        "colab": {
          "base_uri": "https://localhost:8080/",
          "height": 36
        },
        "outputId": "3595c4af-916b-4e06-8351-9d51da5bb72b"
      },
      "cell_type": "code",
      "source": [
        "string1 = ['001', '100', '110']\n",
        "q0(string1)"
      ],
      "execution_count": 4,
      "outputs": [
        {
          "output_type": "stream",
          "text": [
            "The string is recognized\n"
          ],
          "name": "stdout"
        }
      ]
    },
    {
      "metadata": {
        "id": "kE5zbT8Le3dy",
        "colab_type": "code",
        "colab": {
          "base_uri": "https://localhost:8080/",
          "height": 36
        },
        "outputId": "70a67557-bb5d-467b-af81-bff064696af7"
      },
      "cell_type": "code",
      "source": [
        "string2 = ['001', '110', '000']\n",
        "q0(string2)"
      ],
      "execution_count": 5,
      "outputs": [
        {
          "output_type": "stream",
          "text": [
            "The string is recognized\n"
          ],
          "name": "stdout"
        }
      ]
    },
    {
      "metadata": {
        "id": "ccTbL9EXfEsQ",
        "colab_type": "code",
        "colab": {
          "base_uri": "https://localhost:8080/",
          "height": 36
        },
        "outputId": "5e5c837c-dbfa-4195-e4e5-095d31fd8fdd"
      },
      "cell_type": "code",
      "source": [
        "string3 = ['101', '011']\n",
        "q0(string3)"
      ],
      "execution_count": 6,
      "outputs": [
        {
          "output_type": "stream",
          "text": [
            "The string is recognized\n"
          ],
          "name": "stdout"
        }
      ]
    },
    {
      "metadata": {
        "id": "mz1bz4xNfIpN",
        "colab_type": "code",
        "colab": {
          "base_uri": "https://localhost:8080/",
          "height": 36
        },
        "outputId": "136d1fe9-c186-4c51-d318-8a6a112df9b9"
      },
      "cell_type": "code",
      "source": [
        "string4 = ['001', '110']\n",
        "q0(string4)"
      ],
      "execution_count": 8,
      "outputs": [
        {
          "output_type": "stream",
          "text": [
            "The string is recognized\n"
          ],
          "name": "stdout"
        }
      ]
    },
    {
      "metadata": {
        "id": "OG4ZHleufLLV",
        "colab_type": "code",
        "colab": {
          "base_uri": "https://localhost:8080/",
          "height": 36
        },
        "outputId": "7686e289-bd42-4cb3-ed84-f080145a9235"
      },
      "cell_type": "code",
      "source": [
        "string5 = ['001']\n",
        "q0(string5)"
      ],
      "execution_count": 9,
      "outputs": [
        {
          "output_type": "stream",
          "text": [
            "The string is not recognized\n"
          ],
          "name": "stdout"
        }
      ]
    },
    {
      "metadata": {
        "id": "9x6Z3_RbfYHC",
        "colab_type": "code",
        "colab": {
          "base_uri": "https://localhost:8080/",
          "height": 36
        },
        "outputId": "cee60810-e340-43df-93ba-0210018cdf24"
      },
      "cell_type": "code",
      "source": [
        "q0([])"
      ],
      "execution_count": 12,
      "outputs": [
        {
          "output_type": "stream",
          "text": [
            "The string is recognized\n"
          ],
          "name": "stdout"
        }
      ]
    },
    {
      "metadata": {
        "id": "ppVCa6EUe_xF",
        "colab_type": "text"
      },
      "cell_type": "markdown",
      "source": [
        "## Examples not in Language B"
      ]
    },
    {
      "metadata": {
        "id": "PMPPl-KTfBRi",
        "colab_type": "code",
        "colab": {
          "base_uri": "https://localhost:8080/",
          "height": 36
        },
        "outputId": "209c91be-2895-4969-da64-4d84006a7ca5"
      },
      "cell_type": "code",
      "source": [
        "string6 = ['111','101', '110']\n",
        "q0(string6)"
      ],
      "execution_count": 10,
      "outputs": [
        {
          "output_type": "stream",
          "text": [
            "The string is not recognized\n"
          ],
          "name": "stdout"
        }
      ]
    },
    {
      "metadata": {
        "id": "1GqLABFGfR1X",
        "colab_type": "code",
        "colab": {
          "base_uri": "https://localhost:8080/",
          "height": 36
        },
        "outputId": "661e8660-aac0-4b0f-dce4-2c37b9afb105"
      },
      "cell_type": "code",
      "source": [
        "string7 = ['001','100', '000']\n",
        "q0(string7)"
      ],
      "execution_count": 11,
      "outputs": [
        {
          "output_type": "stream",
          "text": [
            "The string is not recognized\n"
          ],
          "name": "stdout"
        }
      ]
    },
    {
      "metadata": {
        "id": "mHvroemVfV9l",
        "colab_type": "code",
        "colab": {
          "base_uri": "https://localhost:8080/",
          "height": 36
        },
        "outputId": "0033f23e-7994-4cd9-9f3d-816ed6ced99c"
      },
      "cell_type": "code",
      "source": [
        "q0(['100'])"
      ],
      "execution_count": 13,
      "outputs": [
        {
          "output_type": "stream",
          "text": [
            "The string is not recognized\n"
          ],
          "name": "stdout"
        }
      ]
    }
  ]
}