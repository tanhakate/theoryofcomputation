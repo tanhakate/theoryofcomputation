{
  "nbformat": 4,
  "nbformat_minor": 0,
  "metadata": {
    "colab": {
      "name": "Assignment 2.ipynb",
      "version": "0.3.2",
      "provenance": []
    },
    "kernelspec": {
      "name": "python3",
      "display_name": "Python 3"
    }
  },
  "cells": [
    {
      "metadata": {
        "id": "3ZEY1FctG2do",
        "colab_type": "text"
      },
      "cell_type": "markdown",
      "source": [
        "# $M_{B} \\ Simulator$"
      ]
    },
    {
      "metadata": {
        "id": "Nfs7E8EFMR_o",
        "colab_type": "text"
      },
      "cell_type": "markdown",
      "source": [
        "## Creating Lists"
      ]
    },
    {
      "metadata": {
        "id": "cw1Qp6OBKTIv",
        "colab_type": "code",
        "colab": {}
      },
      "cell_type": "code",
      "source": [
        "# Create alphabet list of lowercase and uppercase letters called alpha\n",
        "alpha = []\n",
        "for letter in range(97,123):\n",
        "    alpha.append(chr(letter))\n",
        "\n",
        "for letter in range(65, 91):\n",
        "    alpha.append(chr(letter))"
      ],
      "execution_count": 0,
      "outputs": []
    },
    {
      "metadata": {
        "id": "VdXNyKsRKl8u",
        "colab_type": "code",
        "outputId": "474c2fbf-9083-4e28-e8a5-ed6140c46a91",
        "colab": {
          "base_uri": "https://localhost:8080/",
          "height": 1001
        }
      },
      "cell_type": "code",
      "source": [
        "alpha"
      ],
      "execution_count": 2,
      "outputs": [
        {
          "output_type": "execute_result",
          "data": {
            "text/plain": [
              "['a',\n",
              " 'b',\n",
              " 'c',\n",
              " 'd',\n",
              " 'e',\n",
              " 'f',\n",
              " 'g',\n",
              " 'h',\n",
              " 'i',\n",
              " 'j',\n",
              " 'k',\n",
              " 'l',\n",
              " 'm',\n",
              " 'n',\n",
              " 'o',\n",
              " 'p',\n",
              " 'q',\n",
              " 'r',\n",
              " 's',\n",
              " 't',\n",
              " 'u',\n",
              " 'v',\n",
              " 'w',\n",
              " 'x',\n",
              " 'y',\n",
              " 'z',\n",
              " 'A',\n",
              " 'B',\n",
              " 'C',\n",
              " 'D',\n",
              " 'E',\n",
              " 'F',\n",
              " 'G',\n",
              " 'H',\n",
              " 'I',\n",
              " 'J',\n",
              " 'K',\n",
              " 'L',\n",
              " 'M',\n",
              " 'N',\n",
              " 'O',\n",
              " 'P',\n",
              " 'Q',\n",
              " 'R',\n",
              " 'S',\n",
              " 'T',\n",
              " 'U',\n",
              " 'V',\n",
              " 'W',\n",
              " 'X',\n",
              " 'Y',\n",
              " 'Z']"
            ]
          },
          "metadata": {
            "tags": []
          },
          "execution_count": 2
        }
      ]
    },
    {
      "metadata": {
        "id": "6G5axtoWLE_Y",
        "colab_type": "code",
        "outputId": "def55ffd-60a5-486c-bfac-b5fa29f1fb20",
        "colab": {
          "base_uri": "https://localhost:8080/",
          "height": 36
        }
      },
      "cell_type": "code",
      "source": [
        "# Create list of numbers called D\n",
        "\n",
        "listy = list((range(0,10,1)))\n",
        "D = [str(i) for i in listy]\n",
        "D\n"
      ],
      "execution_count": 3,
      "outputs": [
        {
          "output_type": "execute_result",
          "data": {
            "text/plain": [
              "['0', '1', '2', '3', '4', '5', '6', '7', '8', '9']"
            ]
          },
          "metadata": {
            "tags": []
          },
          "execution_count": 3
        }
      ]
    },
    {
      "metadata": {
        "id": "IANyo00xLZlO",
        "colab_type": "code",
        "outputId": "b9e2d59f-f468-49dd-9147-b75287c655cc",
        "colab": {
          "base_uri": "https://localhost:8080/",
          "height": 36
        }
      },
      "cell_type": "code",
      "source": [
        "# Create list of comparison operators called beta\n",
        "\n",
        "beta = [\"<\", \">\", \"=\", \">=\", \"<=\"]\n",
        "beta"
      ],
      "execution_count": 4,
      "outputs": [
        {
          "output_type": "execute_result",
          "data": {
            "text/plain": [
              "['<', '>', '=', '>=', '<=']"
            ]
          },
          "metadata": {
            "tags": []
          },
          "execution_count": 4
        }
      ]
    },
    {
      "metadata": {
        "id": "RxDV1BatMaYW",
        "colab_type": "text"
      },
      "cell_type": "markdown",
      "source": [
        "## FA Simulator"
      ]
    },
    {
      "metadata": {
        "id": "c8hctAmJGeHM",
        "colab_type": "code",
        "colab": {}
      },
      "cell_type": "code",
      "source": [
        "def q0(s):\n",
        "    n = len(s) #n is the number of inputs in our string\n",
        "    if n == 0:\n",
        "      #If the list is empty, the language is not recognized\n",
        "      print('The string is not recognized in q0')\n",
        "    else:\n",
        "      if s[0] == 'If':\n",
        "        print('String passed from q0 to q5')\n",
        "        q5(s[1:])\n",
        "        \n",
        "\n",
        "def q5(s):\n",
        "    n = len(s)\n",
        "    if n == 0: #If the list is empty, we automatically reject.\n",
        "      print(\"The string is not recognized in q5\")\n",
        "      return\n",
        "    if s[0] in alpha:\n",
        "      print('String passed from q5 to q6')\n",
        "      q6(s[1:]) \n",
        "    else:\n",
        "      print(\"The string is not recognized in q5\")\n",
        "      return \n",
        "    \n",
        "    \n",
        "def q6(s):\n",
        "    if len(s) == 0: #If the string is empty when it reaches q6, we terminate. \n",
        "      print('The string is not recognized in q6')\n",
        "    if s[0] in beta:\n",
        "      print('String passed from q6 to q7')\n",
        "      q7(s[1:])\n",
        "    else:\n",
        "      print(\"The string is not recognized in q6\")\n",
        "      return\n",
        "\n",
        "def q7(s):\n",
        "    if len(s) == 0: #If the string is empty when it reaches q7, we terminate. \n",
        "      print('The string is not recognized in q7')\n",
        "    if s[0] in D:\n",
        "      print('String passed from q7 to q10')\n",
        "      q10(s[1:])\n",
        "    elif s[0] in ['+', '-']:\n",
        "      print('String passed from q7 to q9')\n",
        "      q9(s[1:])\n",
        "    elif s[0] == '.':\n",
        "      print('String passed from q7 to q8')\n",
        "      q8[s[1:]]\n",
        "    else:\n",
        "      print(\"The string is not recognized in q7\")\n",
        "      return\n",
        "    \n",
        "def q10(s):\n",
        "    if len(s) == 0: #If the string is empty when it reaches q10, we terminate. \n",
        "      print('The string is not recognized in q10')\n",
        "    if s[0] in D: #self-loops are represented as recursive calls\n",
        "      print('String passed from q10 to q10')\n",
        "      q10(s[1:])\n",
        "    elif s[0] == \"then\":\n",
        "      print('String passed from q10 to q12')\n",
        "      q12(s[1:])\n",
        "    elif s[0] == \".\":\n",
        "      print('String passed from q10 to q11')\n",
        "      q11(s[1:])\n",
        "    else:\n",
        "      print(\"The string is not recognized in q10\")\n",
        "      return\n",
        "    \n",
        "def q9(s):\n",
        "    if len(s) == 0: #If the string is empty when it reaches q9, we terminate. \n",
        "      print('The string is not recognized in q9')\n",
        "    if s[0] in D: \n",
        "      print('String passed from q9 to q10')\n",
        "      q10(s[1:])\n",
        "    elif s[0] == \".\":\n",
        "      print('String passed from q9 to q8')\n",
        "      q8(s[1:])\n",
        "    else:\n",
        "      print(\"The string is not recognized in q9\")\n",
        "      return\n",
        "    \n",
        "def q8(s):\n",
        "    if len(s) == 0: #If the string is empty when it reaches q8, we terminate. \n",
        "      print('The string is not recognized in q8')\n",
        "    if s[0] in D:\n",
        "      print('String passed from q8 to q11')\n",
        "      q11(s[1:])\n",
        "    else:\n",
        "      print(\"The string is not recognized in q8\")\n",
        "      return\n",
        "      \n",
        "def q11(s):\n",
        "    if len(s) == 0: #If the string is empty when it reaches q11, we terminate. \n",
        "      print('The string is not recognized in q11')\n",
        "    if s[0] in D:\n",
        "      print('String passed from q11 to q11')\n",
        "      q11(s[1:])\n",
        "    elif s[0] == \"then\":\n",
        "      print('String passed from q11 to q12')\n",
        "      q12(s[1:])\n",
        "    else:\n",
        "      print(\"The string is not recognized in q11\")\n",
        "      return\n",
        "\n",
        "def q12(s):\n",
        "    if len(s) == 0: #If the string is empty when it reaches q12, we terminate. \n",
        "      print('The string is not recognized in q12')\n",
        "    if s[0] in alpha: \n",
        "      print('String passed from q12 to q13')\n",
        "      q13(s[1:])\n",
        "    else:\n",
        "      print(\"The string is not recognized in q12\")\n",
        "      return\n",
        "    \n",
        "def q13(s):\n",
        "    if len(s) == 0: #If the string is empty when it reaches q12, we terminate. \n",
        "      print('The string is not recognized in q13')\n",
        "    if s[0] == \"=\": \n",
        "      print('String passed from q13 to q14')\n",
        "      q14(s[1:])\n",
        "    else:\n",
        "      print(\"The string is not recognized in q13\")\n",
        "      return\n",
        "\n",
        "def q14(s):\n",
        "    if len(s) == 0: #If the string is empty when it reaches q12, we terminate. \n",
        "      print('The string is not recognized in q14')\n",
        "    if s[0] in D:\n",
        "      print('String passed from q14 to q3')\n",
        "      q3(s[1:])\n",
        "    elif s[0] == \".\":\n",
        "      print('String passed from q14 to q15')\n",
        "      q15(s[1:])\n",
        "    elif s[0] in [\"+\", \"-\"]:\n",
        "      print('String passed from q14 to q16')\n",
        "      q16(s[1:])\n",
        "    else:\n",
        "      print(\"The string is not recognized in q14\")\n",
        "      return\n",
        "    \n",
        "def q16(s):\n",
        "    if len(s) == 0: #If the string is empty when it reaches q16, we terminate. \n",
        "      print('The string is not recognized in q16')\n",
        "    if s[0] in D:\n",
        "      print('String passed from q16 to q3')\n",
        "      q3(s[1:])\n",
        "    elif s[0] == \".\":\n",
        "      print('String passed from q16 to q15')\n",
        "      q15(s[1:])\n",
        "    else:\n",
        "      print(\"The string is not recognized in q16\")\n",
        "      return\n",
        "    \n",
        "def q15(s):\n",
        "    if len(s) == 0: #If the string is empty when it reaches q15, we terminate. \n",
        "      print('The string is not recognized in q15')\n",
        "    if s[0] in D: \n",
        "      print('String passed from q15 to q2')\n",
        "      q2(s[1:])\n",
        "    else:\n",
        "      print(\"The string is not recognized in q15\")\n",
        "      return\n",
        "    \n",
        "def q3(s):\n",
        "    if len(s) == 0: #If the string is empty when it reaches q3, we terminate. \n",
        "      print('The string is not recognized in q3')\n",
        "    if s[0] in D: #self-loops are represented as recursive calls\n",
        "      print('String passed from q3 to q3')\n",
        "      q3(s[1:])\n",
        "    elif s[0] == \"endif\":\n",
        "      print('String passed from q3 to q1')\n",
        "      q1(s[1:])\n",
        "    elif s[0] == '.':\n",
        "      print('String passed from q3 to q2')\n",
        "      q2(s[1:])\n",
        "    else:\n",
        "      print(\"The string is not recognized in q3\")\n",
        "      return\n",
        "    \n",
        "def q2(s):\n",
        "    if len(s) == 0: #If the string is empty when it reaches q2, we terminate. \n",
        "      print('The string is not recognized in q2')\n",
        "    if s[0] in D: #self-loops are represented as recursive calls\n",
        "      print('String passed from q2 to q2')\n",
        "      q2(s[1:])\n",
        "    elif s[0] == \"endif\":\n",
        "      print('String passed from q2 to q1')\n",
        "      q1(s[1:])\n",
        "    else:\n",
        "      print(\"The string is not recognized in q2\")\n",
        "      return\n",
        "    \n",
        "def q1(s):\n",
        "    if len(s) == 0: #If the string is empty when it reaches q1, we terminate. \n",
        "      print('The string is recognized in q4')\n",
        "    else:\n",
        "      print(s)\n",
        "      print(\"The string is not recognized in q4\")\n",
        "      return"
      ],
      "execution_count": 0,
      "outputs": []
    },
    {
      "metadata": {
        "id": "oBdxYJReYWK2",
        "colab_type": "text"
      },
      "cell_type": "markdown",
      "source": [
        "## Example"
      ]
    },
    {
      "metadata": {
        "id": "Q7ecIozRYDYg",
        "colab_type": "code",
        "outputId": "59bdec65-4393-4670-c7d0-6b8f6eac21fc",
        "colab": {
          "base_uri": "https://localhost:8080/",
          "height": 263
        }
      },
      "cell_type": "code",
      "source": [
        "string1 = [\"If\", \"A\", \">\", \"0\", \"then\", \"B\", \"=\", \"1\", \"0\", \".\", \"5\", \"endif\"]\n",
        "q0(string1)"
      ],
      "execution_count": 6,
      "outputs": [
        {
          "output_type": "stream",
          "text": [
            "String passed from q0 to q5\n",
            "String passed from q5 to q6\n",
            "String passed from q6 to q7\n",
            "String passed from q7 to q10\n",
            "String passed from q10 to q12\n",
            "String passed from q12 to q13\n",
            "String passed from q13 to q14\n",
            "String passed from q14 to q3\n",
            "String passed from q3 to q3\n",
            "String passed from q3 to q2\n",
            "String passed from q2 to q2\n",
            "String passed from q2 to q1\n",
            "The string is recognized in q4\n"
          ],
          "name": "stdout"
        }
      ]
    },
    {
      "metadata": {
        "id": "vO2oQXG6YXrh",
        "colab_type": "text"
      },
      "cell_type": "markdown",
      "source": [
        "## Non-example"
      ]
    },
    {
      "metadata": {
        "id": "H14znywEYYld",
        "colab_type": "code",
        "outputId": "0878bf73-f5f1-40bc-d23c-2e7888582e9c",
        "colab": {
          "base_uri": "https://localhost:8080/",
          "height": 244
        }
      },
      "cell_type": "code",
      "source": [
        "string2 = [\"If\", \"A\", \">\", \"0\", \"then\", \"B\", \"=\", \".\", \"1\", \"0\", \"5\", \"e^2\"]\n",
        "q0(string2)"
      ],
      "execution_count": 7,
      "outputs": [
        {
          "output_type": "stream",
          "text": [
            "String passed from q0 to q5\n",
            "String passed from q5 to q6\n",
            "String passed from q6 to q7\n",
            "String passed from q7 to q10\n",
            "String passed from q10 to q12\n",
            "String passed from q12 to q13\n",
            "String passed from q13 to q14\n",
            "String passed from q14 to q15\n",
            "String passed from q15 to q2\n",
            "String passed from q2 to q2\n",
            "String passed from q2 to q2\n",
            "The string is not recognized in q2\n"
          ],
          "name": "stdout"
        }
      ]
    }
  ]
}